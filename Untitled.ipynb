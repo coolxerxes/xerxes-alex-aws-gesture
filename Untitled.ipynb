{
 "cells": [
  {
   "cell_type": "code",
   "execution_count": null,
   "id": "dbb64b93",
   "metadata": {},
   "outputs": [],
   "source": [
    "pip install flask"
   ]
  },
  {
   "cell_type": "code",
   "execution_count": null,
   "id": "37759b6b",
   "metadata": {},
   "outputs": [],
   "source": [
    "import pickle\n",
    "import pandas as pd\n",
    "import numpy as np\n",
    "from flask import Flask, request\n",
    "import re\n",
    " \n",
    "app = Flask(__name__)\n",
    "pipe = pickle.load(open('C:\\\\Users\\\\reemz\\\\Desktop\\\\SeniorProject - Copy\\\\newspmodel\\\\finalized_model.pkl', 'rb'))\n",
    "scalerName = 'C:\\\\Users\\\\reemz\\\\Desktop\\\\SeniorProject - Copy\\\\newspmodel\\\\scaler.pkl'\n",
    "scaler2 = pickle.load(open(scalerName, 'rb'))\n",
    " \n",
    "@app.route('/analyze', methods=['GET'])\n",
    "def analyze():\n",
    "   \n",
    "    text = request.args.get('text')\n",
    "    x = re.findall(r'([-+]?\\d[\\d.]*)' , text)\n",
    "    float_lst = [float(item) for item in x]\n",
    "    print(float_lst)\n",
    "    \n",
    "    dd = np.zeros(shape=(1,66))\n",
    "    dd[0][:] = float_lst[0:66]\n",
    "    some_sign=scaler2.transform(dd)  #scaled is numby array\n",
    "    \n",
    "    score = pipe.predict(some_sign)\n",
    "    return str(score)\n",
    " \n",
    "if __name__ == '__main__':\n",
    "    app.run(debug=False, port=5000, host='0.0.0.0')"
   ]
  },
  {
   "cell_type": "code",
   "execution_count": null,
   "id": "dada4f1b",
   "metadata": {},
   "outputs": [],
   "source": []
  },
  {
   "cell_type": "code",
   "execution_count": null,
   "id": "c1820c1c",
   "metadata": {},
   "outputs": [],
   "source": []
  }
 ],
 "metadata": {
  "kernelspec": {
   "display_name": "Python 3 (ipykernel)",
   "language": "python",
   "name": "python3"
  },
  "language_info": {
   "codemirror_mode": {
    "name": "ipython",
    "version": 3
   },
   "file_extension": ".py",
   "mimetype": "text/x-python",
   "name": "python",
   "nbconvert_exporter": "python",
   "pygments_lexer": "ipython3",
   "version": "3.9.7"
  }
 },
 "nbformat": 4,
 "nbformat_minor": 5
}
