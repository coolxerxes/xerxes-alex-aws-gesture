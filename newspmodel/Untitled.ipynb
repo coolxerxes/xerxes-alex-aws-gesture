{
 "cells": [
  {
   "cell_type": "code",
   "execution_count": 2,
   "id": "269a4257",
   "metadata": {},
   "outputs": [
    {
     "name": "stdout",
     "output_type": "stream",
     "text": [
      " * Serving Flask app \"__main__\" (lazy loading)\n",
      " * Environment: production\n",
      "\u001b[31m   WARNING: This is a development server. Do not use it in a production deployment.\u001b[0m\n",
      "\u001b[2m   Use a production WSGI server instead.\u001b[0m\n",
      " * Debug mode: on\n"
     ]
    },
    {
     "name": "stderr",
     "output_type": "stream",
     "text": [
      " * Restarting with watchdog (windowsapi)\n"
     ]
    },
    {
     "ename": "SystemExit",
     "evalue": "1",
     "output_type": "error",
     "traceback": [
      "An exception has occurred, use %tb to see the full traceback.\n",
      "\u001b[1;31mSystemExit\u001b[0m\u001b[1;31m:\u001b[0m 1\n"
     ]
    },
    {
     "name": "stderr",
     "output_type": "stream",
     "text": [
      "C:\\Users\\reemz\\anaconda3\\lib\\site-packages\\IPython\\core\\interactiveshell.py:3452: UserWarning: To exit: use 'exit', 'quit', or Ctrl-D.\n",
      "  warn(\"To exit: use 'exit', 'quit', or Ctrl-D.\", stacklevel=1)\n"
     ]
    }
   ],
   "source": [
    "import pickle\n",
    "from flask import Flask, request\n",
    " \n",
    "app = Flask(__name__)\n",
    "pipe = pickle.load(open('C:\\\\Users\\\\reemz\\\\Desktop\\\\SeniorProject - Copy\\\\newspmodel\\\\finalized_model.pkl', 'rb'))\n",
    " \n",
    "@app.route('/analyze', methods=['GET'])\n",
    "def analyze():\n",
    "    if 'text' in request.args:\n",
    "        text = request.args.get('text')\n",
    "    else:\n",
    "        return 'No string to analyze'\n",
    " \n",
    "    score = pipe.predict_proba([text])[0][1]\n",
    "    return str(score)\n",
    " \n",
    "if __name__ == '__main__':\n",
    "    app.run(debug=True, port=5000, host='0.0.0.0')"
   ]
  },
  {
   "cell_type": "code",
   "execution_count": null,
   "id": "14eaca72",
   "metadata": {},
   "outputs": [],
   "source": []
  }
 ],
 "metadata": {
  "kernelspec": {
   "display_name": "Python 3 (ipykernel)",
   "language": "python",
   "name": "python3"
  },
  "language_info": {
   "codemirror_mode": {
    "name": "ipython",
    "version": 3
   },
   "file_extension": ".py",
   "mimetype": "text/x-python",
   "name": "python",
   "nbconvert_exporter": "python",
   "pygments_lexer": "ipython3",
   "version": "3.9.7"
  }
 },
 "nbformat": 4,
 "nbformat_minor": 5
}
