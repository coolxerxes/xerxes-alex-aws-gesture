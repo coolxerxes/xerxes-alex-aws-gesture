{
 "cells": [
  {
   "cell_type": "markdown",
   "metadata": {},
   "source": [
    "This notebook is to split into train and test, make standardization, and build the model, then pickle it."
   ]
  },
  {
   "cell_type": "code",
   "execution_count": 1,
   "metadata": {},
   "outputs": [],
   "source": [
    "import pandas as pd\n",
    "url=\"C:\\\\Users\\\\reemz\\\\Desktop\\\\SeniorProject - Copy\\\\newspmodel\\\\dataset_all.csv\"\n",
    "dataset=pd.read_csv(url)"
   ]
  },
  {
   "cell_type": "code",
   "execution_count": 2,
   "metadata": {},
   "outputs": [],
   "source": [
    "# split and standardization\n",
    "import numpy as np\n",
    "from sklearn.model_selection import train_test_split\n",
    "#split train and test\n",
    "train_set, test_set = train_test_split(dataset, test_size=0.1, random_state=42,stratify=dataset['Label'])\n",
    "train_set.reset_index(drop=True, inplace=True)\n",
    "test_set.reset_index(drop=True, inplace=True)\n",
    "#divide X and y\n",
    "train_X = train_set.drop(\"Label\", axis=1)\n",
    "train_y = train_set[\"Label\"].copy()\n",
    "test_X = test_set.drop(\"Label\", axis=1)\n",
    "test_y = test_set[\"Label\"].copy()\n",
    "#data standardization\n",
    "from sklearn.preprocessing import StandardScaler\n",
    "scaler = StandardScaler()\n",
    "scaler.fit(train_X)\n",
    "scaled=scaler.transform(train_X)  #scaled is numby array\n",
    "train_X = pd.DataFrame(scaled, columns=train_X.columns)\n",
    "scaled=scaler.transform(test_X)\n",
    "test_X = pd.DataFrame(scaled, columns=test_X.columns)"
   ]
  },
  {
   "cell_type": "code",
   "execution_count": 3,
   "metadata": {},
   "outputs": [
    {
     "data": {
      "text/plain": [
       "array([ 1.40311968e-01,  1.37064780e-01,  1.40689393e-01,  1.36070745e-01,\n",
       "        1.27493198e-01,  1.26311267e-01,  9.06706732e-02,  8.22238996e-02,\n",
       "        7.04626563e-02,  8.76929812e-02,  9.83149193e-02,  1.03883129e-01,\n",
       "       -1.67913532e-02, -2.39342341e-02, -4.97761461e-02, -4.52058754e-02,\n",
       "       -5.95031481e-02, -5.98260161e-02,  9.08457163e-02,  1.09706754e-01,\n",
       "        7.37393109e-02,  8.23663727e-02,  8.26899317e-02,  7.89591442e-02,\n",
       "        1.43043124e-02,  3.16472032e-02,  2.36744253e-02,  2.48744237e-02,\n",
       "        2.34665876e-02,  2.01547407e-02, -2.24116243e-02, -1.65964683e-02,\n",
       "        4.44428118e-04, -6.43380602e-03, -1.44542368e-02, -1.80471966e-02,\n",
       "        3.57331399e+03,  3.21099956e+03,  3.14654423e+03,  3.08832015e+03,\n",
       "        3.30822238e+03,  3.53313478e+03,  3.37468407e+03,  3.07477560e+03,\n",
       "        2.99862467e+03,  3.03053951e+03,  3.18013941e+03,  3.24686599e+03,\n",
       "        3.19850745e+03,  2.48550587e+03,  2.51977548e+03,  2.55828525e+03,\n",
       "        2.80811411e+03,  2.94470994e+03,  2.93121616e+03,  1.91412692e+03,\n",
       "        1.90198551e+03,  1.82624582e+03,  2.15496879e+03,  2.41699959e+03,\n",
       "        1.78384376e+03,  1.34539719e+03,  1.25792518e+03,  1.04680673e+03,\n",
       "        1.35256641e+03,  1.68475711e+03])"
      ]
     },
     "execution_count": 3,
     "metadata": {},
     "output_type": "execute_result"
    }
   ],
   "source": [
    "scaler.mean_"
   ]
  },
  {
   "cell_type": "code",
   "execution_count": 4,
   "metadata": {},
   "outputs": [
    {
     "data": {
      "text/plain": [
       "array([9.18142265e-02, 8.56612481e-02, 7.92708316e-02, 7.90201849e-02,\n",
       "       8.17278830e-02, 8.32505725e-02, 1.70966853e-02, 9.83449067e-03,\n",
       "       4.45859126e-03, 7.36584275e-03, 1.20640274e-02, 1.67802926e-02,\n",
       "       8.98897889e-02, 6.34096635e-02, 3.22170435e-02, 3.00310149e-02,\n",
       "       3.06501264e-02, 3.35385511e-02, 1.60062238e-02, 1.91338476e-02,\n",
       "       1.77709763e-02, 1.29380331e-02, 1.17504649e-02, 1.41640326e-02,\n",
       "       3.68169261e-02, 2.09196289e-02, 2.20689477e-02, 2.10810977e-02,\n",
       "       2.66829485e-02, 3.22278245e-02, 1.15358249e-02, 8.77768903e-03,\n",
       "       1.86429815e-03, 4.29765945e-03, 7.43272569e-03, 9.76884269e-03,\n",
       "       8.91711007e+05, 1.62607986e+06, 1.29692174e+06, 1.27932403e+06,\n",
       "       6.82077296e+05, 2.92340045e+05, 9.83617118e+04, 8.38161760e+05,\n",
       "       8.56438598e+05, 7.54877685e+05, 4.29868993e+05, 3.74068043e+05,\n",
       "       6.72824759e+05, 2.52042445e+06, 2.14738553e+06, 2.06229070e+06,\n",
       "       1.54108138e+06, 1.37034514e+06, 9.00164275e+05, 2.49935767e+06,\n",
       "       1.66732355e+06, 1.43113155e+06, 1.34615188e+06, 1.65324340e+06,\n",
       "       9.14211934e+05, 1.91513318e+06, 1.26673049e+06, 1.00732485e+06,\n",
       "       9.07011501e+05, 1.16906009e+06])"
      ]
     },
     "execution_count": 4,
     "metadata": {},
     "output_type": "execute_result"
    }
   ],
   "source": [
    "scaler.var_"
   ]
  },
  {
   "cell_type": "code",
   "execution_count": null,
   "metadata": {},
   "outputs": [],
   "source": []
  },
  {
   "cell_type": "code",
   "execution_count": 5,
   "metadata": {},
   "outputs": [
    {
     "name": "stdout",
     "output_type": "stream",
     "text": [
      "Requirement already satisfied: sklearn-json in c:\\users\\reemz\\anaconda3\\lib\\site-packages (0.1.0)\n",
      "Requirement already satisfied: scikit-learn>=0.21.3 in c:\\users\\reemz\\anaconda3\\lib\\site-packages (from sklearn-json) (0.24.2)\n",
      "Requirement already satisfied: threadpoolctl>=2.0.0 in c:\\users\\reemz\\anaconda3\\lib\\site-packages (from scikit-learn>=0.21.3->sklearn-json) (2.2.0)\n",
      "Requirement already satisfied: joblib>=0.11 in c:\\users\\reemz\\anaconda3\\lib\\site-packages (from scikit-learn>=0.21.3->sklearn-json) (1.1.0)\n",
      "Requirement already satisfied: scipy>=0.19.1 in c:\\users\\reemz\\anaconda3\\lib\\site-packages (from scikit-learn>=0.21.3->sklearn-json) (1.7.1)\n",
      "Requirement already satisfied: numpy>=1.13.3 in c:\\users\\reemz\\anaconda3\\lib\\site-packages (from scikit-learn>=0.21.3->sklearn-json) (1.20.3)\n"
     ]
    },
    {
     "data": {
      "text/plain": [
       "array([0.96969697, 0.96969697, 0.9375    , 0.90625   , 0.84375   ])"
      ]
     },
     "execution_count": 5,
     "metadata": {},
     "output_type": "execute_result"
    }
   ],
   "source": [
    "#building random forest model\n",
    "import sys\n",
    "!{sys.executable} -m pip install sklearn-json\n",
    "\n",
    "import sklearn_json as skljson\n",
    "from sklearn.ensemble import RandomForestClassifier\n",
    "from sklearn.model_selection import cross_val_score\n",
    "forest_clf = RandomForestClassifier(random_state=42)\n",
    "modelj = forest_clf.fit(train_X, train_y)\n",
    "scores=cross_val_score(forest_clf, train_X, train_y, cv=5, scoring=\"accuracy\")\n",
    "scores"
   ]
  },
  {
   "cell_type": "code",
   "execution_count": 6,
   "metadata": {},
   "outputs": [],
   "source": [
    "def display_scores(scores):\n",
    "    print(\"Scores:\", scores)\n",
    "    print(\"Mean:\", scores.mean())\n",
    "    print(\"Standard deviation:\", scores.std())"
   ]
  },
  {
   "cell_type": "code",
   "execution_count": 7,
   "metadata": {},
   "outputs": [
    {
     "name": "stdout",
     "output_type": "stream",
     "text": [
      "Scores: [0.96969697 0.96969697 0.9375     0.90625    0.84375   ]\n",
      "Mean: 0.9253787878787879\n",
      "Standard deviation: 0.047125992401005366\n"
     ]
    }
   ],
   "source": [
    "display_scores(scores)"
   ]
  },
  {
   "cell_type": "code",
   "execution_count": 8,
   "metadata": {},
   "outputs": [
    {
     "data": {
      "text/plain": [
       "array([[18,  0,  0,  0,  0,  0,  0,  0,  0],\n",
       "       [ 0, 15,  3,  0,  0,  0,  0,  0,  0],\n",
       "       [ 0,  2, 16,  0,  0,  0,  0,  0,  0],\n",
       "       [ 0,  0,  0, 18,  0,  0,  0,  0,  0],\n",
       "       [ 0,  0,  0,  0, 15,  3,  0,  0,  0],\n",
       "       [ 0,  0,  0,  1,  2, 15,  0,  0,  0],\n",
       "       [ 1,  0,  0,  0,  0,  0, 17,  0,  0],\n",
       "       [ 0,  0,  0,  0,  0,  0,  0, 18,  0],\n",
       "       [ 0,  0,  0,  0,  0,  0,  0,  0, 18]], dtype=int64)"
      ]
     },
     "execution_count": 8,
     "metadata": {},
     "output_type": "execute_result"
    }
   ],
   "source": [
    "#error analysis\n",
    "from sklearn.model_selection import cross_val_predict\n",
    "from sklearn.metrics import confusion_matrix\n",
    "train_y_pred = cross_val_predict(forest_clf, train_X, train_y, cv=5)\n",
    "conf_mx = confusion_matrix(train_y,train_y_pred)\n",
    "conf_mx"
   ]
  },
  {
   "cell_type": "code",
   "execution_count": 9,
   "metadata": {},
   "outputs": [
    {
     "data": {
      "text/plain": [
       "array([1.        , 0.83333333, 0.88888889, 1.        , 0.83333333,\n",
       "       0.83333333, 0.94444444, 1.        , 1.        ])"
      ]
     },
     "execution_count": 9,
     "metadata": {},
     "output_type": "execute_result"
    }
   ],
   "source": [
    "from sklearn.metrics import precision_score, recall_score, accuracy_score\n",
    "recall_score(train_y,train_y_pred,average=None)"
   ]
  },
  {
   "cell_type": "code",
   "execution_count": 10,
   "metadata": {},
   "outputs": [
    {
     "data": {
      "text/plain": [
       "array([0.94736842, 0.88235294, 0.84210526, 0.94736842, 0.88235294,\n",
       "       0.83333333, 1.        , 1.        , 1.        ])"
      ]
     },
     "execution_count": 10,
     "metadata": {},
     "output_type": "execute_result"
    }
   ],
   "source": [
    "precision_score(train_y,train_y_pred,average=None)"
   ]
  },
  {
   "cell_type": "code",
   "execution_count": 11,
   "metadata": {},
   "outputs": [
    {
     "data": {
      "text/plain": [
       "0.9259259259259259"
      ]
     },
     "execution_count": 11,
     "metadata": {},
     "output_type": "execute_result"
    }
   ],
   "source": [
    "accuracy_score(train_y,train_y_pred)"
   ]
  },
  {
   "cell_type": "markdown",
   "metadata": {},
   "source": [
    "1. from the confusion matrix, it is clear it classify sign 1 as sign 6. The total of each sign in tyrain set is 18.\n",
    "2. from recall, sometimes it cannot capture sign 1 and 4. Recall is the actual percentage of each sign that the model can capture correctly.\n",
    "3. from precision, when the model say sign 6, the chance of true classification is 0.85. Precision is the percentage of correct classifications among all classifications. "
   ]
  },
  {
   "cell_type": "markdown",
   "metadata": {},
   "source": [
    "# test the model"
   ]
  },
  {
   "cell_type": "code",
   "execution_count": 12,
   "metadata": {},
   "outputs": [
    {
     "data": {
      "text/plain": [
       "0.9444444444444444"
      ]
     },
     "execution_count": 12,
     "metadata": {},
     "output_type": "execute_result"
    }
   ],
   "source": [
    "final_predictions = forest_clf.predict(test_X)\n",
    "\n",
    "from sklearn.metrics import accuracy_score\n",
    "accuracy_score(test_y, final_predictions)"
   ]
  },
  {
   "cell_type": "markdown",
   "metadata": {},
   "source": [
    "# pickle the model"
   ]
  },
  {
   "cell_type": "code",
   "execution_count": 13,
   "metadata": {},
   "outputs": [],
   "source": [
    "from pickle import dump, load\n",
    "import json\n",
    "# save the model to disk\n",
    "modelName = 'C:\\\\Users\\\\reemz\\\\Desktop\\\\SeniorProject - Copy\\\\newspmodel\\\\finalized_model.pkl'\n",
    "dump(forest_clf, open(modelName, 'wb'))\n",
    "# save the scaler \n",
    "scalerName = 'C:\\\\Users\\\\reemz\\\\Desktop\\\\SeniorProject - Copy\\\\newspmodel\\\\scaler.pkl'\n",
    "dump(scaler, open(scalerName, 'wb'))\n",
    "\n",
    "\n",
    "modelJson ='C:\\\\Users\\\\reemz\\\\Desktop\\\\SeniorProject - Copy\\\\newspmodel\\\\modelj.json'\n",
    "skljson.to_json(modelj, modelJson)\n",
    "#deserialized_model = skljson.from_json(modelJson)\n"
   ]
  },
  {
   "cell_type": "markdown",
   "metadata": {},
   "source": [
    "# explore the performance of the pickled model"
   ]
  },
  {
   "cell_type": "code",
   "execution_count": 14,
   "metadata": {},
   "outputs": [
    {
     "data": {
      "text/plain": [
       "0.9944444444444445"
      ]
     },
     "execution_count": 14,
     "metadata": {},
     "output_type": "execute_result"
    }
   ],
   "source": [
    "#file path XXX.sav\n",
    "filename = 'C:\\\\Users\\\\reemz\\\\Desktop\\\\SeniorProject - Copy\\\\newspmodel\\\\finalized_model.pkl'\n",
    "loaded_model = load(open(filename, 'rb'))\n",
    "scalerName = 'C:\\\\Users\\\\reemz\\\\Desktop\\\\SeniorProject - Copy\\\\newspmodel\\\\scaler.pkl'\n",
    "scaler2 = load(open(scalerName, 'rb'))\n",
    "\n",
    "# 88 used to be 72, changed because of an error\n",
    "scaled_new=scaler2.transform(dataset.iloc[:,0:66])  #scaled is numby array\n",
    "scaled_new = pd.DataFrame(scaled_new)\n",
    "\n",
    "results = loaded_model.predict(scaled_new )\n",
    "accuracy_score(dataset.iloc[:,-1], results)"
   ]
  },
  {
   "cell_type": "code",
   "execution_count": 15,
   "metadata": {},
   "outputs": [
    {
     "data": {
      "text/plain": [
       "array([0, 0, 0, 0, 0, 0, 0, 0, 0, 0, 0, 0, 0, 0, 0, 0, 0, 0, 0, 0, 1, 1,\n",
       "       1, 1, 1, 1, 1, 1, 1, 1, 1, 1, 1, 1, 1, 1, 1, 1, 1, 1, 2, 2, 2, 2,\n",
       "       2, 2, 2, 2, 2, 2, 2, 2, 2, 2, 2, 2, 2, 2, 2, 2, 3, 3, 3, 3, 3, 3,\n",
       "       3, 3, 3, 3, 3, 3, 3, 3, 6, 3, 3, 3, 3, 3, 4, 4, 4, 4, 4, 4, 4, 4,\n",
       "       4, 4, 4, 4, 4, 4, 4, 4, 4, 4, 4, 4, 5, 5, 5, 5, 5, 5, 5, 5, 5, 5,\n",
       "       5, 5, 5, 5, 5, 5, 5, 5, 5, 5, 6, 6, 6, 6, 6, 6, 6, 6, 6, 6, 6, 6,\n",
       "       6, 6, 6, 6, 6, 6, 6, 6, 7, 7, 7, 7, 7, 7, 7, 7, 7, 7, 7, 7, 7, 7,\n",
       "       7, 7, 7, 7, 7, 7, 8, 8, 8, 8, 8, 8, 8, 8, 8, 8, 8, 8, 8, 8, 8, 8,\n",
       "       8, 8, 8, 8], dtype=int64)"
      ]
     },
     "execution_count": 15,
     "metadata": {},
     "output_type": "execute_result"
    }
   ],
   "source": [
    "results"
   ]
  },
  {
   "cell_type": "code",
   "execution_count": 16,
   "metadata": {},
   "outputs": [
    {
     "name": "stdout",
     "output_type": "stream",
     "text": [
      "The predicted sign is:  [0]\n",
      "The predicted sign is:  0 \n",
      "The actual sign is:  0\n"
     ]
    }
   ],
   "source": [
    "#test using the pickled model\n",
    "# load the model from disk\n",
    "\n",
    "#file path XXX.sav\n",
    "filename = 'C:\\\\Users\\\\reemz\\\\Desktop\\\\SeniorProject - Copy\\\\newspmodel\\\\finalized_model.pkl'\n",
    "loaded_model = load(open(filename, 'rb'))\n",
    "s=3\n",
    "\n",
    "# 88 used to be 72, changed because of an error,, new is 66\n",
    "dd = np.zeros(shape=(1,66))\n",
    "dd[0][:]=dataset.iloc[s,0:66]\n",
    "some_sign=scaler2.transform(dd)  #scaled is numby array\n",
    "#some_sign = pd.DataFrame(some_sign)\n",
    "result = loaded_model.predict(some_sign)\n",
    "print(\"The predicted sign is: \",result)\n",
    "print(\"The predicted sign is: \",result[0],\"\\nThe actual sign is: \",dataset.iloc[s,-1])"
   ]
  },
  {
   "cell_type": "code",
   "execution_count": null,
   "metadata": {},
   "outputs": [],
   "source": []
  },
  {
   "cell_type": "code",
   "execution_count": null,
   "metadata": {},
   "outputs": [],
   "source": []
  },
  {
   "cell_type": "code",
   "execution_count": null,
   "metadata": {},
   "outputs": [],
   "source": []
  },
  {
   "cell_type": "code",
   "execution_count": null,
   "metadata": {},
   "outputs": [],
   "source": []
  },
  {
   "cell_type": "code",
   "execution_count": null,
   "metadata": {},
   "outputs": [],
   "source": []
  },
  {
   "cell_type": "code",
   "execution_count": null,
   "metadata": {},
   "outputs": [],
   "source": []
  },
  {
   "cell_type": "code",
   "execution_count": null,
   "metadata": {},
   "outputs": [],
   "source": []
  }
 ],
 "metadata": {
  "kernelspec": {
   "display_name": "Python 3 (ipykernel)",
   "language": "python",
   "name": "python3"
  },
  "language_info": {
   "codemirror_mode": {
    "name": "ipython",
    "version": 3
   },
   "file_extension": ".py",
   "mimetype": "text/x-python",
   "name": "python",
   "nbconvert_exporter": "python",
   "pygments_lexer": "ipython3",
   "version": "3.9.7"
  }
 },
 "nbformat": 4,
 "nbformat_minor": 4
}
